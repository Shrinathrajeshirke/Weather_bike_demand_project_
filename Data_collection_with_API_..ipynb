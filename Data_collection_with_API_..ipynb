{
 "cells": [
  {
   "cell_type": "markdown",
   "metadata": {},
   "source": [
    "We will be collecting real-time current and forecasted weather data for cities using the **OpenWeather API**. It can give current weather data for any location including over 200,000 cities and 5 day forecasts for free (with limited API usage). \n",
    "\n"
   ]
  },
  {
   "cell_type": "code",
   "execution_count": 1,
   "metadata": {},
   "outputs": [
    {
     "name": "stderr",
     "output_type": "stream",
     "text": [
      "Loading required package: httr\n",
      "Warning message:\n",
      "\"package 'httr' was built under R version 3.6.3\"Warning message:\n",
      "\"package 'zoo' was built under R version 3.6.3\"\n",
      "Attaching package: 'zoo'\n",
      "\n",
      "The following objects are masked from 'package:base':\n",
      "\n",
      "    as.Date, as.Date.numeric\n",
      "\n"
     ]
    }
   ],
   "source": [
    "# Check if need to install rvest` library\n",
    "require(\"httr\")\n",
    "\n",
    "library(httr)\n",
    "library(zoo)"
   ]
  },
  {
   "cell_type": "markdown",
   "metadata": {},
   "source": [
    "The API base URL to get current weather is [https://api.openweathermap.org/data/2.5/weather](https://api.openweathermap.org/data/2.5/weather?utm_medium=Exinfluencer&utm_source=Exinfluencer&utm_content=000026UJ&utm_term=10006555&utm_id=NA-SkillsNetwork-Channel-SkillsNetworkCoursesIBMDeveloperSkillsNetworkRP0321ENSkillsNetwork25371262-2021-01-01)\n"
   ]
  },
  {
   "cell_type": "code",
   "execution_count": 2,
   "metadata": {},
   "outputs": [],
   "source": [
    "# URL for Current Weather API\n",
    "current_weather_url <- 'https://api.openweathermap.org/data/2.5/weather'"
   ]
  },
  {
   "cell_type": "markdown",
   "metadata": {},
   "source": [
    "Next, let's create a list to hold URL parameters for current weather API\n"
   ]
  },
  {
   "cell_type": "code",
   "execution_count": 3,
   "metadata": {},
   "outputs": [],
   "source": [
    "# need to be replaced by your real API key\n",
    "your_api_key <- \"b7d554a655748f172509b57d89094d44\"\n",
    "# Input `q` is the city name\n",
    "# Input `appid` is your API KEY, \n",
    "# Input `units` are preferred units such as Metric or Imperial\n",
    "current_query <- list(q = \"Seoul\", appid = your_api_key, units=\"metric\")"
   ]
  },
  {
   "cell_type": "markdown",
   "metadata": {},
   "source": [
    "Now we can make a HTTP request to the current weather API\n"
   ]
  },
  {
   "cell_type": "code",
   "execution_count": 4,
   "metadata": {},
   "outputs": [],
   "source": [
    "response <- GET(current_weather_url, query=current_query)"
   ]
  },
  {
   "cell_type": "markdown",
   "metadata": {},
   "source": [
    "If we check the response type, we can see it is in JSON format\n"
   ]
  },
  {
   "cell_type": "code",
   "execution_count": 5,
   "metadata": {},
   "outputs": [
    {
     "data": {
      "text/html": [
       "'application/json'"
      ],
      "text/latex": [
       "'application/json'"
      ],
      "text/markdown": [
       "'application/json'"
      ],
      "text/plain": [
       "[1] \"application/json\""
      ]
     },
     "metadata": {},
     "output_type": "display_data"
    }
   ],
   "source": [
    "http_type(response)"
   ]
  },
  {
   "cell_type": "markdown",
   "metadata": {},
   "source": [
    "JSON is an open standard file and data interchange format that uses human-readable text to store and transmit data objects. To read the JSON HTTP response, you can use the `content()` function to parse it as a named list in R.\n"
   ]
  },
  {
   "cell_type": "code",
   "execution_count": 6,
   "metadata": {},
   "outputs": [],
   "source": [
    "json_result <- content(response, as=\"parsed\")"
   ]
  },
  {
   "cell_type": "markdown",
   "metadata": {},
   "source": [
    "If you use the `class()` function, you can see it is a R `List` object\n"
   ]
  },
  {
   "cell_type": "code",
   "execution_count": 7,
   "metadata": {},
   "outputs": [
    {
     "data": {
      "text/html": [
       "'list'"
      ],
      "text/latex": [
       "'list'"
      ],
      "text/markdown": [
       "'list'"
      ],
      "text/plain": [
       "[1] \"list\""
      ]
     },
     "metadata": {},
     "output_type": "display_data"
    }
   ],
   "source": [
    "class(json_result)"
   ]
  },
  {
   "cell_type": "markdown",
   "metadata": {},
   "source": [
    "Now let's print the JSON result.\n"
   ]
  },
  {
   "cell_type": "code",
   "execution_count": 8,
   "metadata": {},
   "outputs": [
    {
     "data": {
      "text/html": [
       "<dl>\n",
       "\t<dt>$coord</dt>\n",
       "\t\t<dd><dl>\n",
       "\t<dt>$lon</dt>\n",
       "\t\t<dd>126.9778</dd>\n",
       "\t<dt>$lat</dt>\n",
       "\t\t<dd>37.5683</dd>\n",
       "</dl>\n",
       "</dd>\n",
       "\t<dt>$weather</dt>\n",
       "\t\t<dd><ol>\n",
       "\t<li><dl>\n",
       "\t<dt>$id</dt>\n",
       "\t\t<dd>804</dd>\n",
       "\t<dt>$main</dt>\n",
       "\t\t<dd>'Clouds'</dd>\n",
       "\t<dt>$description</dt>\n",
       "\t\t<dd>'overcast clouds'</dd>\n",
       "\t<dt>$icon</dt>\n",
       "\t\t<dd>'04n'</dd>\n",
       "</dl>\n",
       "</li>\n",
       "</ol>\n",
       "</dd>\n",
       "\t<dt>$base</dt>\n",
       "\t\t<dd>'stations'</dd>\n",
       "\t<dt>$main</dt>\n",
       "\t\t<dd><dl>\n",
       "\t<dt>$temp</dt>\n",
       "\t\t<dd>4.39</dd>\n",
       "\t<dt>$feels_like</dt>\n",
       "\t\t<dd>0.76</dd>\n",
       "\t<dt>$temp_min</dt>\n",
       "\t\t<dd>0.42</dd>\n",
       "\t<dt>$temp_max</dt>\n",
       "\t\t<dd>7.69</dd>\n",
       "\t<dt>$pressure</dt>\n",
       "\t\t<dd>1015</dd>\n",
       "\t<dt>$humidity</dt>\n",
       "\t\t<dd>70</dd>\n",
       "</dl>\n",
       "</dd>\n",
       "\t<dt>$visibility</dt>\n",
       "\t\t<dd>10000</dd>\n",
       "\t<dt>$wind</dt>\n",
       "\t\t<dd><dl>\n",
       "\t<dt>$speed</dt>\n",
       "\t\t<dd>4.63</dd>\n",
       "\t<dt>$deg</dt>\n",
       "\t\t<dd>180</dd>\n",
       "</dl>\n",
       "</dd>\n",
       "\t<dt>$clouds</dt>\n",
       "\t\t<dd><strong>$all</strong> = 90</dd>\n",
       "\t<dt>$dt</dt>\n",
       "\t\t<dd>1638440772</dd>\n",
       "\t<dt>$sys</dt>\n",
       "\t\t<dd><dl>\n",
       "\t<dt>$type</dt>\n",
       "\t\t<dd>1</dd>\n",
       "\t<dt>$id</dt>\n",
       "\t\t<dd>8105</dd>\n",
       "\t<dt>$country</dt>\n",
       "\t\t<dd>'KR'</dd>\n",
       "\t<dt>$sunrise</dt>\n",
       "\t\t<dd>1638397742</dd>\n",
       "\t<dt>$sunset</dt>\n",
       "\t\t<dd>1638432850</dd>\n",
       "</dl>\n",
       "</dd>\n",
       "\t<dt>$timezone</dt>\n",
       "\t\t<dd>32400</dd>\n",
       "\t<dt>$id</dt>\n",
       "\t\t<dd>1835848</dd>\n",
       "\t<dt>$name</dt>\n",
       "\t\t<dd>'Seoul'</dd>\n",
       "\t<dt>$cod</dt>\n",
       "\t\t<dd>200</dd>\n",
       "</dl>\n"
      ],
      "text/latex": [
       "\\begin{description}\n",
       "\\item[\\$coord] \\begin{description}\n",
       "\\item[\\$lon] 126.9778\n",
       "\\item[\\$lat] 37.5683\n",
       "\\end{description}\n",
       "\n",
       "\\item[\\$weather] \\begin{enumerate}\n",
       "\\item \\begin{description}\n",
       "\\item[\\$id] 804\n",
       "\\item[\\$main] 'Clouds'\n",
       "\\item[\\$description] 'overcast clouds'\n",
       "\\item[\\$icon] '04n'\n",
       "\\end{description}\n",
       "\n",
       "\\end{enumerate}\n",
       "\n",
       "\\item[\\$base] 'stations'\n",
       "\\item[\\$main] \\begin{description}\n",
       "\\item[\\$temp] 4.39\n",
       "\\item[\\$feels\\_like] 0.76\n",
       "\\item[\\$temp\\_min] 0.42\n",
       "\\item[\\$temp\\_max] 7.69\n",
       "\\item[\\$pressure] 1015\n",
       "\\item[\\$humidity] 70\n",
       "\\end{description}\n",
       "\n",
       "\\item[\\$visibility] 10000\n",
       "\\item[\\$wind] \\begin{description}\n",
       "\\item[\\$speed] 4.63\n",
       "\\item[\\$deg] 180\n",
       "\\end{description}\n",
       "\n",
       "\\item[\\$clouds] \\textbf{\\$all} = 90\n",
       "\\item[\\$dt] 1638440772\n",
       "\\item[\\$sys] \\begin{description}\n",
       "\\item[\\$type] 1\n",
       "\\item[\\$id] 8105\n",
       "\\item[\\$country] 'KR'\n",
       "\\item[\\$sunrise] 1638397742\n",
       "\\item[\\$sunset] 1638432850\n",
       "\\end{description}\n",
       "\n",
       "\\item[\\$timezone] 32400\n",
       "\\item[\\$id] 1835848\n",
       "\\item[\\$name] 'Seoul'\n",
       "\\item[\\$cod] 200\n",
       "\\end{description}\n"
      ],
      "text/markdown": [
       "$coord\n",
       ":   $lon\n",
       ":   126.9778\n",
       "$lat\n",
       ":   37.5683\n",
       "\n",
       "\n",
       "\n",
       "$weather\n",
       ":   1. $id\n",
       ":   804\n",
       "$main\n",
       ":   'Clouds'\n",
       "$description\n",
       ":   'overcast clouds'\n",
       "$icon\n",
       ":   '04n'\n",
       "\n",
       "\n",
       "\n",
       "\n",
       "\n",
       "\n",
       "$base\n",
       ":   'stations'\n",
       "$main\n",
       ":   $temp\n",
       ":   4.39\n",
       "$feels_like\n",
       ":   0.76\n",
       "$temp_min\n",
       ":   0.42\n",
       "$temp_max\n",
       ":   7.69\n",
       "$pressure\n",
       ":   1015\n",
       "$humidity\n",
       ":   70\n",
       "\n",
       "\n",
       "\n",
       "$visibility\n",
       ":   10000\n",
       "$wind\n",
       ":   $speed\n",
       ":   4.63\n",
       "$deg\n",
       ":   180\n",
       "\n",
       "\n",
       "\n",
       "$clouds\n",
       ":   **$all** = 90\n",
       "$dt\n",
       ":   1638440772\n",
       "$sys\n",
       ":   $type\n",
       ":   1\n",
       "$id\n",
       ":   8105\n",
       "$country\n",
       ":   'KR'\n",
       "$sunrise\n",
       ":   1638397742\n",
       "$sunset\n",
       ":   1638432850\n",
       "\n",
       "\n",
       "\n",
       "$timezone\n",
       ":   32400\n",
       "$id\n",
       ":   1835848\n",
       "$name\n",
       ":   'Seoul'\n",
       "$cod\n",
       ":   200\n",
       "\n",
       "\n"
      ],
      "text/plain": [
       "$coord\n",
       "$coord$lon\n",
       "[1] 126.9778\n",
       "\n",
       "$coord$lat\n",
       "[1] 37.5683\n",
       "\n",
       "\n",
       "$weather\n",
       "$weather[[1]]\n",
       "$weather[[1]]$id\n",
       "[1] 804\n",
       "\n",
       "$weather[[1]]$main\n",
       "[1] \"Clouds\"\n",
       "\n",
       "$weather[[1]]$description\n",
       "[1] \"overcast clouds\"\n",
       "\n",
       "$weather[[1]]$icon\n",
       "[1] \"04n\"\n",
       "\n",
       "\n",
       "\n",
       "$base\n",
       "[1] \"stations\"\n",
       "\n",
       "$main\n",
       "$main$temp\n",
       "[1] 4.39\n",
       "\n",
       "$main$feels_like\n",
       "[1] 0.76\n",
       "\n",
       "$main$temp_min\n",
       "[1] 0.42\n",
       "\n",
       "$main$temp_max\n",
       "[1] 7.69\n",
       "\n",
       "$main$pressure\n",
       "[1] 1015\n",
       "\n",
       "$main$humidity\n",
       "[1] 70\n",
       "\n",
       "\n",
       "$visibility\n",
       "[1] 10000\n",
       "\n",
       "$wind\n",
       "$wind$speed\n",
       "[1] 4.63\n",
       "\n",
       "$wind$deg\n",
       "[1] 180\n",
       "\n",
       "\n",
       "$clouds\n",
       "$clouds$all\n",
       "[1] 90\n",
       "\n",
       "\n",
       "$dt\n",
       "[1] 1638440772\n",
       "\n",
       "$sys\n",
       "$sys$type\n",
       "[1] 1\n",
       "\n",
       "$sys$id\n",
       "[1] 8105\n",
       "\n",
       "$sys$country\n",
       "[1] \"KR\"\n",
       "\n",
       "$sys$sunrise\n",
       "[1] 1638397742\n",
       "\n",
       "$sys$sunset\n",
       "[1] 1638432850\n",
       "\n",
       "\n",
       "$timezone\n",
       "[1] 32400\n",
       "\n",
       "$id\n",
       "[1] 1835848\n",
       "\n",
       "$name\n",
       "[1] \"Seoul\"\n",
       "\n",
       "$cod\n",
       "[1] 200\n"
      ]
     },
     "metadata": {},
     "output_type": "display_data"
    }
   ],
   "source": [
    "json_result"
   ]
  },
  {
   "cell_type": "markdown",
   "metadata": {},
   "source": [
    "It contains very detailed weather data about the city of `Seoul`. Feel free to try other cities as well. We need to convert the named list to a data frame so that we can use data frame operations to process the data. Below is a simple example, which you may implement your own way to convert it to a data frame.\n"
   ]
  },
  {
   "cell_type": "code",
   "execution_count": 9,
   "metadata": {},
   "outputs": [],
   "source": [
    "# Create some empty vectors to hold data temporarily\n",
    "weather <- c()\n",
    "visibility <- c()\n",
    "temp <- c()\n",
    "temp_min <- c()\n",
    "temp_max <- c()\n",
    "pressure <- c()\n",
    "humidity <- c()\n",
    "wind_speed <- c()\n",
    "wind_deg <- c()\n",
    "datetime <- c()"
   ]
  },
  {
   "cell_type": "markdown",
   "metadata": {},
   "source": [
    "Now assign the values in the `json_result` list into different vectors\n"
   ]
  },
  {
   "cell_type": "code",
   "execution_count": 10,
   "metadata": {},
   "outputs": [],
   "source": [
    "# $weather is also a list with one element, its $main element indicates the weather status such as clear or rain\n",
    "weather <- c(weather, json_result$weather[[1]]$main)\n",
    "# Get Visibility\n",
    "visibility <- c(visibility, json_result$visibility)\n",
    "# Get current temperature \n",
    "temp <- c(temp, json_result$main$temp)\n",
    "# Get min temperature \n",
    "temp_min <- c(temp_min, json_result$main$temp_min)\n",
    "# Get max temperature \n",
    "temp_max <- c(temp_max, json_result$main$temp_max)\n",
    "# Get pressure\n",
    "pressure <- c(pressure, json_result$main$pressure)\n",
    "# Get humidity\n",
    "humidity <- c(humidity, json_result$main$humidity)\n",
    "# Get wind speed\n",
    "wind_speed <- c(wind_speed, json_result$wind$speed)\n",
    "# Get wind direction\n",
    "wind_deg <- c(wind_deg, json_result$wind$deg)\n",
    "datetime <- c(datetime, json_result$dt)"
   ]
  },
  {
   "cell_type": "markdown",
   "metadata": {},
   "source": [
    "Combine all vectors as columns of a data frame\n"
   ]
  },
  {
   "cell_type": "code",
   "execution_count": 11,
   "metadata": {},
   "outputs": [],
   "source": [
    "# Combine all vectors\n",
    "weather_data_frame <- data.frame(weather=weather, \n",
    "                                 visibility=visibility, \n",
    "                                 temp=temp, \n",
    "                                 temp_min=temp_min, \n",
    "                                 temp_max=temp_max, \n",
    "                                 pressure=pressure, \n",
    "                                 humidity=humidity, \n",
    "                                 wind_speed=wind_speed, \n",
    "                                 wind_deg=wind_deg,\n",
    "                                 datetime=datetime)"
   ]
  },
  {
   "cell_type": "code",
   "execution_count": 12,
   "metadata": {},
   "outputs": [
    {
     "name": "stdout",
     "output_type": "stream",
     "text": [
      "  weather visibility temp temp_min temp_max pressure humidity wind_speed\n",
      "1  Clouds      10000 4.39     0.42     7.69     1015       70       4.63\n",
      "  wind_deg   datetime\n",
      "1      180 1638440772\n"
     ]
    }
   ],
   "source": [
    "# Check the generated data frame\n",
    "print(weather_data_frame)"
   ]
  },
  {
   "cell_type": "markdown",
   "metadata": {},
   "source": [
    "#  Get 5-day weather forecasts for a list of cities using the OpenWeather API\n"
   ]
  },
  {
   "cell_type": "markdown",
   "metadata": {},
   "source": [
    "A function to return a data frame containing 5-day weather forecasts for a list of cities\n"
   ]
  },
  {
   "cell_type": "code",
   "execution_count": 13,
   "metadata": {},
   "outputs": [],
   "source": [
    "# Create some empty vectors to hold data temporarily\n",
    "\n",
    "# City name column\n",
    "city <- c()\n",
    "# Weather column, rainy or cloudy, etc\n",
    "weather <- c()\n",
    "# Sky visibility column\n",
    "visibility <- c()\n",
    "# Current temperature column\n",
    "temp <- c()\n",
    "# Max temperature column\n",
    "temp_min <- c()\n",
    "# Min temperature column\n",
    "temp_max <- c()\n",
    "# Pressure column\n",
    "pressure <- c()\n",
    "# Humidity column\n",
    "humidity <- c()\n",
    "# Wind speed column\n",
    "wind_speed <- c()\n",
    "# Wind direction column\n",
    "wind_deg <- c()\n",
    "# Forecast timestamp\n",
    "forecast_datetime <- c()\n",
    "# Season column\n",
    "# Note that for season, you can hard code a season value from levels Spring, Summer, Autumn, and Winter based on your current month.\n",
    "season <- c()\n"
   ]
  },
  {
   "cell_type": "code",
   "execution_count": 14,
   "metadata": {},
   "outputs": [],
   "source": [
    "# Get forecast data for a given city list\n",
    "get_weather_forecaset_by_cities <- function(city_names){\n",
    "    df <- data.frame()\n",
    "    for (city_name in city_names){\n",
    "        # Forecast API URL\n",
    "        forecast_url <- 'https://api.openweathermap.org/data/2.5/forecast'\n",
    "        # Create query parameters\n",
    "        forecast_query <- list(q = city_name, appid = \"b7d554a655748f172509b57d89094d44\", units=\"metric\")\n",
    "        # Make HTTP GET call for the given city\n",
    "        response <- GET(forecast_url, query=forecast_query)\n",
    "        # Note that the 5-day forecast JSON result is a list of lists. You can print the reponse to check the results\n",
    "        json_list <- content(response, as=\"parsed\")\n",
    "        results <- json_list$list\n",
    "        # Loop the json result\n",
    "        for(result in results) {\n",
    "            city <- c(city, city_name)\n",
    "            weather <- c(weather, result$weather[[1]]$main)\n",
    "            visibility <- c(visibility, result$visibility) \n",
    "            temp <- c(temp, result$main$temp)   \n",
    "            temp_min <- c(temp_min, result$main$temp_min) \n",
    "            temp_max <- c(temp_max, result$main$temp_max)\n",
    "            pressure <- c(pressure, result$main$pressure)\n",
    "            humidity <- c(humidity, result$main$humidity)\n",
    "            wind_speed <- c(wind_speed, result$wind$speed)\n",
    "            wind_deg <- c(wind_deg, result$wind$deg)\n",
    "            forecast_datetime <- c(forecast_datetime, result$dt_txt)\n",
    "            months <- as.numeric(format(as.Date(forecast_datetime), '%m'))\n",
    "            index <- setNames(rep(c('winter','spring','summer','fall'),each = 3), c(12,1:11))\n",
    "            season <- unname(index[as.character(months)])\n",
    "        }\n",
    "        df <- data.frame(city=city,\n",
    "                                 weather=weather,\n",
    "                                 visibility=visibility,\n",
    "                                 temp=temp,\n",
    "                                 temp_min=temp_min,\n",
    "                                 temp_max=temp_max,\n",
    "                                 pressure=pressure,\n",
    "                                 humidity=humidity,\n",
    "                                 wind_speed=wind_speed,\n",
    "                                 wind_deg=wind_deg,\n",
    "                                 forecast_datetime=forecast_datetime,\n",
    "                                 season = season\n",
    "                                )\n",
    "        # Add the R Lists into a data frame\n",
    "    }\n",
    "    \n",
    "    # Return a data frame\n",
    "    return(df)\n",
    "    \n",
    "}\n"
   ]
  },
  {
   "cell_type": "markdown",
   "metadata": {},
   "source": [
    "Complete and call `get_weather_forecaset_by_cities` function with a list of cities, and write the data frame into a csv file called `cities_weather_forecast.csv`\n"
   ]
  },
  {
   "cell_type": "code",
   "execution_count": 15,
   "metadata": {},
   "outputs": [],
   "source": [
    "cities <- c(\"Seoul\", \"Washington, D.C.\", \"Paris\", \"Suzhou\")\n",
    "cities_weather_df <- get_weather_forecaset_by_cities(cities)"
   ]
  },
  {
   "cell_type": "code",
   "execution_count": 16,
   "metadata": {},
   "outputs": [
    {
     "data": {
      "text/html": [
       "<table>\n",
       "<thead><tr><th scope=col>city</th><th scope=col>weather</th><th scope=col>visibility</th><th scope=col>temp</th><th scope=col>temp_min</th><th scope=col>temp_max</th><th scope=col>pressure</th><th scope=col>humidity</th><th scope=col>wind_speed</th><th scope=col>wind_deg</th><th scope=col>forecast_datetime</th><th scope=col>season</th></tr></thead>\n",
       "<tbody>\n",
       "\t<tr><td>Seoul              </td><td>Rain               </td><td>10000              </td><td>5.14               </td><td>5.14               </td><td>7.01               </td><td>1015               </td><td>64                 </td><td>5.39               </td><td>260                </td><td>2021-12-02 12:00:00</td><td>winter             </td></tr>\n",
       "\t<tr><td>Seoul              </td><td>Rain               </td><td>10000              </td><td>5.85               </td><td>5.85               </td><td>6.68               </td><td>1014               </td><td>57                 </td><td>5.13               </td><td>255                </td><td>2021-12-02 15:00:00</td><td>winter             </td></tr>\n",
       "\t<tr><td>Seoul              </td><td>Rain               </td><td>10000              </td><td>4.60               </td><td>4.60               </td><td>4.60               </td><td>1014               </td><td>80                 </td><td>3.57               </td><td>306                </td><td>2021-12-02 18:00:00</td><td>winter             </td></tr>\n",
       "\t<tr><td>Seoul              </td><td>Rain               </td><td>10000              </td><td>3.46               </td><td>3.46               </td><td>3.46               </td><td>1016               </td><td>47                 </td><td>4.49               </td><td>317                </td><td>2021-12-02 21:00:00</td><td>winter             </td></tr>\n",
       "\t<tr><td>Seoul              </td><td>Clouds             </td><td>10000              </td><td>1.89               </td><td>1.89               </td><td>1.89               </td><td>1019               </td><td>41                 </td><td>5.28               </td><td>314                </td><td>2021-12-03 00:00:00</td><td>winter             </td></tr>\n",
       "\t<tr><td>Seoul              </td><td>Clear              </td><td>10000              </td><td>2.48               </td><td>2.48               </td><td>2.48               </td><td>1020               </td><td>35                 </td><td>5.46               </td><td>305                </td><td>2021-12-03 03:00:00</td><td>winter             </td></tr>\n",
       "</tbody>\n",
       "</table>\n"
      ],
      "text/latex": [
       "\\begin{tabular}{r|llllllllllll}\n",
       " city & weather & visibility & temp & temp\\_min & temp\\_max & pressure & humidity & wind\\_speed & wind\\_deg & forecast\\_datetime & season\\\\\n",
       "\\hline\n",
       "\t Seoul               & Rain                & 10000               & 5.14                & 5.14                & 7.01                & 1015                & 64                  & 5.39                & 260                 & 2021-12-02 12:00:00 & winter             \\\\\n",
       "\t Seoul               & Rain                & 10000               & 5.85                & 5.85                & 6.68                & 1014                & 57                  & 5.13                & 255                 & 2021-12-02 15:00:00 & winter             \\\\\n",
       "\t Seoul               & Rain                & 10000               & 4.60                & 4.60                & 4.60                & 1014                & 80                  & 3.57                & 306                 & 2021-12-02 18:00:00 & winter             \\\\\n",
       "\t Seoul               & Rain                & 10000               & 3.46                & 3.46                & 3.46                & 1016                & 47                  & 4.49                & 317                 & 2021-12-02 21:00:00 & winter             \\\\\n",
       "\t Seoul               & Clouds              & 10000               & 1.89                & 1.89                & 1.89                & 1019                & 41                  & 5.28                & 314                 & 2021-12-03 00:00:00 & winter             \\\\\n",
       "\t Seoul               & Clear               & 10000               & 2.48                & 2.48                & 2.48                & 1020                & 35                  & 5.46                & 305                 & 2021-12-03 03:00:00 & winter             \\\\\n",
       "\\end{tabular}\n"
      ],
      "text/markdown": [
       "\n",
       "| city | weather | visibility | temp | temp_min | temp_max | pressure | humidity | wind_speed | wind_deg | forecast_datetime | season |\n",
       "|---|---|---|---|---|---|---|---|---|---|---|---|\n",
       "| Seoul               | Rain                | 10000               | 5.14                | 5.14                | 7.01                | 1015                | 64                  | 5.39                | 260                 | 2021-12-02 12:00:00 | winter              |\n",
       "| Seoul               | Rain                | 10000               | 5.85                | 5.85                | 6.68                | 1014                | 57                  | 5.13                | 255                 | 2021-12-02 15:00:00 | winter              |\n",
       "| Seoul               | Rain                | 10000               | 4.60                | 4.60                | 4.60                | 1014                | 80                  | 3.57                | 306                 | 2021-12-02 18:00:00 | winter              |\n",
       "| Seoul               | Rain                | 10000               | 3.46                | 3.46                | 3.46                | 1016                | 47                  | 4.49                | 317                 | 2021-12-02 21:00:00 | winter              |\n",
       "| Seoul               | Clouds              | 10000               | 1.89                | 1.89                | 1.89                | 1019                | 41                  | 5.28                | 314                 | 2021-12-03 00:00:00 | winter              |\n",
       "| Seoul               | Clear               | 10000               | 2.48                | 2.48                | 2.48                | 1020                | 35                  | 5.46                | 305                 | 2021-12-03 03:00:00 | winter              |\n",
       "\n"
      ],
      "text/plain": [
       "  city  weather visibility temp temp_min temp_max pressure humidity wind_speed\n",
       "1 Seoul Rain    10000      5.14 5.14     7.01     1015     64       5.39      \n",
       "2 Seoul Rain    10000      5.85 5.85     6.68     1014     57       5.13      \n",
       "3 Seoul Rain    10000      4.60 4.60     4.60     1014     80       3.57      \n",
       "4 Seoul Rain    10000      3.46 3.46     3.46     1016     47       4.49      \n",
       "5 Seoul Clouds  10000      1.89 1.89     1.89     1019     41       5.28      \n",
       "6 Seoul Clear   10000      2.48 2.48     2.48     1020     35       5.46      \n",
       "  wind_deg forecast_datetime   season\n",
       "1 260      2021-12-02 12:00:00 winter\n",
       "2 255      2021-12-02 15:00:00 winter\n",
       "3 306      2021-12-02 18:00:00 winter\n",
       "4 317      2021-12-02 21:00:00 winter\n",
       "5 314      2021-12-03 00:00:00 winter\n",
       "6 305      2021-12-03 03:00:00 winter"
      ]
     },
     "metadata": {},
     "output_type": "display_data"
    }
   ],
   "source": [
    "head(cities_weather_df)"
   ]
  },
  {
   "cell_type": "code",
   "execution_count": 17,
   "metadata": {},
   "outputs": [],
   "source": [
    "# Write cities_weather_df to `cities_weather_forecast.csv`\n",
    "write.csv(cities_weather_df, \"cities_weather_forecast.csv\", row.names=FALSE)"
   ]
  },
  {
   "cell_type": "markdown",
   "metadata": {},
   "source": [
    "## Download datasets as csv files from cloud storage\n"
   ]
  },
  {
   "cell_type": "code",
   "execution_count": 18,
   "metadata": {},
   "outputs": [],
   "source": [
    "# Download several datasets\n",
    "\n",
    "# Download some general city information such as name and locations\n",
    "url <- \"https://cf-courses-data.s3.us.cloud-object-storage.appdomain.cloud/IBMDeveloperSkillsNetwork-RP0321EN-SkillsNetwork/labs/datasets/raw_worldcities.csv\"\n",
    "# download the file\n",
    "download.file(url, destfile = \"raw_worldcities.csv\")\n",
    "\n",
    "# Download a specific hourly Seoul bike sharing demand dataset\n",
    "url <- \"https://cf-courses-data.s3.us.cloud-object-storage.appdomain.cloud/IBMDeveloperSkillsNetwork-RP0321EN-SkillsNetwork/labs/datasets/raw_seoul_bike_sharing.csv\"\n",
    "# download the file\n",
    "download.file(url, destfile = \"raw_seoul_bike_sharing.csv\")"
   ]
  }
 ],
 "metadata": {
  "kernelspec": {
   "display_name": "R",
   "language": "R",
   "name": "ir"
  },
  "language_info": {
   "codemirror_mode": "r",
   "file_extension": ".r",
   "mimetype": "text/x-r-source",
   "name": "R",
   "pygments_lexer": "r",
   "version": "3.6.1"
  }
 },
 "nbformat": 4,
 "nbformat_minor": 4
}
