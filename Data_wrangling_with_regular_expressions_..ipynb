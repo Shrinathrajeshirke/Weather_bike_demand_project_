{
 "cells": [
  {
   "cell_type": "markdown",
   "metadata": {},
   "source": [
    "<h1>Data Wrangling with Regular Expressions</h1>\n",
    "\n",
    "\n"
   ]
  },
  {
   "cell_type": "markdown",
   "metadata": {},
   "source": [
    "To summarize, we will be using `stringr` (part of `tidyverse`) and regular expressions to perform the following data wrangling tasks:\n",
    "\n",
    "*   Standardize column names for all collected datasets\n",
    "*   Remove undesired reference links from the scraped bike-sharing systems dataset\n",
    "*   Extract only the numeric value from undesired text annotations\n"
   ]
  },
  {
   "cell_type": "markdown",
   "metadata": {},
   "source": [
    "Let's begin by importing the libraries\n"
   ]
  },
  {
   "cell_type": "code",
   "execution_count": 1,
   "metadata": {},
   "outputs": [
    {
     "name": "stderr",
     "output_type": "stream",
     "text": [
      "Registered S3 methods overwritten by 'ggplot2':\n",
      "  method         from \n",
      "  [.quosures     rlang\n",
      "  c.quosures     rlang\n",
      "  print.quosures rlang\n",
      "Registered S3 method overwritten by 'rvest':\n",
      "  method            from\n",
      "  read_xml.response xml2\n",
      "-- Attaching packages --------------------------------------- tidyverse 1.2.1 --\n",
      "v ggplot2 3.1.1       v purrr   0.3.2  \n",
      "v tibble  2.1.1       v dplyr   0.8.0.1\n",
      "v tidyr   0.8.3       v stringr 1.4.0  \n",
      "v readr   1.3.1       v forcats 0.4.0  \n",
      "-- Conflicts ------------------------------------------ tidyverse_conflicts() --\n",
      "x dplyr::filter() masks stats::filter()\n",
      "x dplyr::lag()    masks stats::lag()\n"
     ]
    }
   ],
   "source": [
    "# Check whether you need to install the `tidyverse` library\n",
    "library(tidyverse)"
   ]
  },
  {
   "cell_type": "markdown",
   "metadata": {},
   "source": [
    "## TASK: Standardize column names for all collected datasets\n"
   ]
  },
  {
   "cell_type": "markdown",
   "metadata": {},
   "source": [
    "\n",
    "\n",
    "*   Column names need to be UPPERCASE\n",
    "*   The word separator needs to be an underscore, such as in `COLUMN_NAME`\n"
   ]
  },
  {
   "cell_type": "markdown",
   "metadata": {},
   "source": [
    "we can use the following dataset list and the `names()` function to get and set each of their column names, and convert them according to our defined naming convention.\n"
   ]
  },
  {
   "cell_type": "code",
   "execution_count": 2,
   "metadata": {},
   "outputs": [],
   "source": [
    "dataset_list <- c('bike_sharing_systems.csv', 'raw_seoul_bike_sharing.csv', 'cities_weather_forecast.csv', 'raw_worldcities.csv')"
   ]
  },
  {
   "cell_type": "markdown",
   "metadata": {},
   "source": [
    " `for` loop to iterate over the above datasets and convert their column names\n"
   ]
  },
  {
   "cell_type": "code",
   "execution_count": 3,
   "metadata": {},
   "outputs": [
    {
     "name": "stderr",
     "output_type": "stream",
     "text": [
      "Warning message:\n",
      "\"Missing column names filled in: 'X1' [1]\"Parsed with column specification:\n",
      "cols(\n",
      "  X1 = col_double(),\n",
      "  Country = col_character(),\n",
      "  City = col_character(),\n",
      "  Name = col_character(),\n",
      "  System = col_character(),\n",
      "  Operator = col_character(),\n",
      "  Launched = col_character(),\n",
      "  Discontinued = col_character(),\n",
      "  Stations = col_character(),\n",
      "  Bicycles = col_character(),\n",
      "  `Daily ridership` = col_character()\n",
      ")\n",
      "Parsed with column specification:\n",
      "cols(\n",
      "  Date = col_character(),\n",
      "  RENTED_BIKE_COUNT = col_double(),\n",
      "  Hour = col_double(),\n",
      "  TEMPERATURE = col_double(),\n",
      "  HUMIDITY = col_double(),\n",
      "  WIND_SPEED = col_double(),\n",
      "  Visibility = col_double(),\n",
      "  DEW_POINT_TEMPERATURE = col_double(),\n",
      "  SOLAR_RADIATION = col_double(),\n",
      "  RAINFALL = col_double(),\n",
      "  Snowfall = col_double(),\n",
      "  SEASONS = col_character(),\n",
      "  HOLIDAY = col_character(),\n",
      "  FUNCTIONING_DAY = col_character()\n",
      ")\n",
      "Parsed with column specification:\n",
      "cols(\n",
      "  city = col_character(),\n",
      "  weather = col_character(),\n",
      "  visibility = col_double(),\n",
      "  temp = col_double(),\n",
      "  temp_min = col_double(),\n",
      "  temp_max = col_double(),\n",
      "  pressure = col_double(),\n",
      "  humidity = col_double(),\n",
      "  wind_speed = col_double(),\n",
      "  wind_deg = col_double(),\n",
      "  forecast_datetime = col_datetime(format = \"\"),\n",
      "  season = col_character()\n",
      ")\n",
      "Parsed with column specification:\n",
      "cols(\n",
      "  City = col_character(),\n",
      "  CITY_ASCII = col_character(),\n",
      "  LAT = col_double(),\n",
      "  LNG = col_double(),\n",
      "  COUNTRY = col_character(),\n",
      "  ISO2 = col_character(),\n",
      "  ISO3 = col_character(),\n",
      "  ADMIN_NAME = col_character(),\n",
      "  CAPITAL = col_character(),\n",
      "  POPULATION = col_double(),\n",
      "  ID = col_double()\n",
      ")\n"
     ]
    }
   ],
   "source": [
    "for (dataset_name in dataset_list){\n",
    "    # Read dataset\n",
    "    dataset <- read_csv(dataset_name)\n",
    "    # Standardized its columns:\n",
    "    # Convert all column names to uppercase\n",
    "    names(dataset) <- toupper(names(dataset))\n",
    "    # Replace any white space separators by underscores, using the str_replace_all function\n",
    "    names(dataset) <- str_replace_all(names(dataset),\" \", \"_\")\n",
    "    # Save the dataset \n",
    "    write.csv(dataset, dataset_name, row.names=FALSE)\n",
    "}\n"
   ]
  },
  {
   "cell_type": "markdown",
   "metadata": {},
   "source": [
    "Read the resulting datasets back and check whether their column names follow the naming convention\n"
   ]
  },
  {
   "cell_type": "code",
   "execution_count": 4,
   "metadata": {},
   "outputs": [
    {
     "name": "stdout",
     "output_type": "stream",
     "text": [
      "     CITY            CITY_ASCII             LAT              LNG           \n",
      " Length:26569       Length:26569       Min.   :-54.93   Min.   :-179.5900  \n",
      " Class :character   Class :character   1st Qu.: 27.92   1st Qu.: -78.7794  \n",
      " Mode  :character   Mode  :character   Median : 40.22   Median :  -0.7689  \n",
      "                                       Mean   : 33.10   Mean   : -11.3639  \n",
      "                                       3rd Qu.: 47.99   3rd Qu.:  29.6833  \n",
      "                                       Max.   : 81.72   Max.   : 179.3667  \n",
      "                                                                           \n",
      "   COUNTRY              ISO2               ISO3            ADMIN_NAME       \n",
      " Length:26569       Length:26569       Length:26569       Length:26569      \n",
      " Class :character   Class :character   Class :character   Class :character  \n",
      " Mode  :character   Mode  :character   Mode  :character   Mode  :character  \n",
      "                                                                            \n",
      "                                                                            \n",
      "                                                                            \n",
      "                                                                            \n",
      "   CAPITAL            POPULATION             ID           \n",
      " Length:26569       Min.   :       0   Min.   :1.004e+09  \n",
      " Class :character   1st Qu.:    9246   1st Qu.:1.277e+09  \n",
      " Mode  :character   Median :   20080   Median :1.643e+09  \n",
      "                    Mean   :  162346   Mean   :1.556e+09  \n",
      "                    3rd Qu.:   59369   3rd Qu.:1.840e+09  \n",
      "                    Max.   :37977000   Max.   :1.934e+09  \n",
      "                    NA's   :973                           \n",
      "     CITY            CITY_ASCII             LAT              LNG           \n",
      " Length:26569       Length:26569       Min.   :-54.93   Min.   :-179.5900  \n",
      " Class :character   Class :character   1st Qu.: 27.92   1st Qu.: -78.7794  \n",
      " Mode  :character   Mode  :character   Median : 40.22   Median :  -0.7689  \n",
      "                                       Mean   : 33.10   Mean   : -11.3639  \n",
      "                                       3rd Qu.: 47.99   3rd Qu.:  29.6833  \n",
      "                                       Max.   : 81.72   Max.   : 179.3667  \n",
      "                                                                           \n",
      "   COUNTRY              ISO2               ISO3            ADMIN_NAME       \n",
      " Length:26569       Length:26569       Length:26569       Length:26569      \n",
      " Class :character   Class :character   Class :character   Class :character  \n",
      " Mode  :character   Mode  :character   Mode  :character   Mode  :character  \n",
      "                                                                            \n",
      "                                                                            \n",
      "                                                                            \n",
      "                                                                            \n",
      "   CAPITAL            POPULATION             ID           \n",
      " Length:26569       Min.   :       0   Min.   :1.004e+09  \n",
      " Class :character   1st Qu.:    9246   1st Qu.:1.277e+09  \n",
      " Mode  :character   Median :   20080   Median :1.643e+09  \n",
      "                    Mean   :  162346   Mean   :1.556e+09  \n",
      "                    3rd Qu.:   59369   3rd Qu.:1.840e+09  \n",
      "                    Max.   :37977000   Max.   :1.934e+09  \n",
      "                    NA's   :973                           \n",
      "     CITY            CITY_ASCII             LAT              LNG           \n",
      " Length:26569       Length:26569       Min.   :-54.93   Min.   :-179.5900  \n",
      " Class :character   Class :character   1st Qu.: 27.92   1st Qu.: -78.7794  \n",
      " Mode  :character   Mode  :character   Median : 40.22   Median :  -0.7689  \n",
      "                                       Mean   : 33.10   Mean   : -11.3639  \n",
      "                                       3rd Qu.: 47.99   3rd Qu.:  29.6833  \n",
      "                                       Max.   : 81.72   Max.   : 179.3667  \n",
      "                                                                           \n",
      "   COUNTRY              ISO2               ISO3            ADMIN_NAME       \n",
      " Length:26569       Length:26569       Length:26569       Length:26569      \n",
      " Class :character   Class :character   Class :character   Class :character  \n",
      " Mode  :character   Mode  :character   Mode  :character   Mode  :character  \n",
      "                                                                            \n",
      "                                                                            \n",
      "                                                                            \n",
      "                                                                            \n",
      "   CAPITAL            POPULATION             ID           \n",
      " Length:26569       Min.   :       0   Min.   :1.004e+09  \n",
      " Class :character   1st Qu.:    9246   1st Qu.:1.277e+09  \n",
      " Mode  :character   Median :   20080   Median :1.643e+09  \n",
      "                    Mean   :  162346   Mean   :1.556e+09  \n",
      "                    3rd Qu.:   59369   3rd Qu.:1.840e+09  \n",
      "                    Max.   :37977000   Max.   :1.934e+09  \n",
      "                    NA's   :973                           \n",
      "     CITY            CITY_ASCII             LAT              LNG           \n",
      " Length:26569       Length:26569       Min.   :-54.93   Min.   :-179.5900  \n",
      " Class :character   Class :character   1st Qu.: 27.92   1st Qu.: -78.7794  \n",
      " Mode  :character   Mode  :character   Median : 40.22   Median :  -0.7689  \n",
      "                                       Mean   : 33.10   Mean   : -11.3639  \n",
      "                                       3rd Qu.: 47.99   3rd Qu.:  29.6833  \n",
      "                                       Max.   : 81.72   Max.   : 179.3667  \n",
      "                                                                           \n",
      "   COUNTRY              ISO2               ISO3            ADMIN_NAME       \n",
      " Length:26569       Length:26569       Length:26569       Length:26569      \n",
      " Class :character   Class :character   Class :character   Class :character  \n",
      " Mode  :character   Mode  :character   Mode  :character   Mode  :character  \n",
      "                                                                            \n",
      "                                                                            \n",
      "                                                                            \n",
      "                                                                            \n",
      "   CAPITAL            POPULATION             ID           \n",
      " Length:26569       Min.   :       0   Min.   :1.004e+09  \n",
      " Class :character   1st Qu.:    9246   1st Qu.:1.277e+09  \n",
      " Mode  :character   Median :   20080   Median :1.643e+09  \n",
      "                    Mean   :  162346   Mean   :1.556e+09  \n",
      "                    3rd Qu.:   59369   3rd Qu.:1.840e+09  \n",
      "                    Max.   :37977000   Max.   :1.934e+09  \n",
      "                    NA's   :973                           \n"
     ]
    }
   ],
   "source": [
    "for (dataset_name in dataset_list){\n",
    "    # Print a summary for each data set to check whether the column names were correctly converted\n",
    "    print(summary(dataset))\n",
    "}"
   ]
  },
  {
   "cell_type": "markdown",
   "metadata": {},
   "source": [
    "## Process the web-scraped bike sharing system dataset\n"
   ]
  },
  {
   "cell_type": "markdown",
   "metadata": {},
   "source": [
    "By now we have standardized all column names. Next, we will focus on cleaning up the values in the web-scraped bike sharing systems dataset.\n"
   ]
  },
  {
   "cell_type": "code",
   "execution_count": 5,
   "metadata": {},
   "outputs": [
    {
     "name": "stderr",
     "output_type": "stream",
     "text": [
      "Parsed with column specification:\n",
      "cols(\n",
      "  X1 = col_double(),\n",
      "  COUNTRY = col_character(),\n",
      "  CITY = col_character(),\n",
      "  NAME = col_character(),\n",
      "  SYSTEM = col_character(),\n",
      "  OPERATOR = col_character(),\n",
      "  LAUNCHED = col_character(),\n",
      "  DISCONTINUED = col_character(),\n",
      "  STATIONS = col_character(),\n",
      "  BICYCLES = col_character(),\n",
      "  DAILY_RIDERSHIP = col_character()\n",
      ")\n"
     ]
    }
   ],
   "source": [
    "# First load the dataset\n",
    "bike_sharing_df <- read_csv(\"bike_sharing_systems.csv\")"
   ]
  },
  {
   "cell_type": "code",
   "execution_count": 6,
   "metadata": {},
   "outputs": [
    {
     "data": {
      "text/html": [
       "<table>\n",
       "<thead><tr><th scope=col>X1</th><th scope=col>COUNTRY</th><th scope=col>CITY</th><th scope=col>NAME</th><th scope=col>SYSTEM</th><th scope=col>OPERATOR</th><th scope=col>LAUNCHED</th><th scope=col>DISCONTINUED</th><th scope=col>STATIONS</th><th scope=col>BICYCLES</th><th scope=col>DAILY_RIDERSHIP</th></tr></thead>\n",
       "<tbody>\n",
       "\t<tr><td>1                             </td><td>Albania                       </td><td>Tirana[5]                     </td><td>Ecovolis                      </td><td>NA                            </td><td>NA                            </td><td>March 2011                    </td><td>NA                            </td><td>8                             </td><td>200                           </td><td>NA                            </td></tr>\n",
       "\t<tr><td>2                             </td><td>Argentina                     </td><td>Mendoza[6]                    </td><td>Metrobici                     </td><td>NA                            </td><td>NA                            </td><td>2014                          </td><td>NA                            </td><td>2                             </td><td>40                            </td><td>NA                            </td></tr>\n",
       "\t<tr><td>3                             </td><td>Argentina                     </td><td>San Lorenzo, Santa Fe         </td><td>Biciudad                      </td><td>Biciudad                      </td><td>NA                            </td><td>27 November 2016              </td><td>NA                            </td><td>8                             </td><td>80                            </td><td>NA                            </td></tr>\n",
       "\t<tr><td>4                             </td><td>Argentina                     </td><td>Buenos Aires[7][8]            </td><td>Ecobici                       </td><td>Serttel Brasil[9]             </td><td>Bike In Baires Consortium.[10]</td><td>2010                          </td><td>NA                            </td><td>400                           </td><td>4000                          </td><td>21917                         </td></tr>\n",
       "\t<tr><td>5                             </td><td>Argentina                     </td><td>Rosario                       </td><td>Mi Bici Tu Bici[11]           </td><td>NA                            </td><td>NA                            </td><td>2 December 2015               </td><td>NA                            </td><td>47                            </td><td>480                           </td><td>NA                            </td></tr>\n",
       "\t<tr><td>6                                                                     </td><td>Australia                                                             </td><td><span style=white-space:pre-wrap>Melbourne[12]        </span>         </td><td>Melbourne Bike Share                                                  </td><td><span style=white-space:pre-wrap>PBSC &amp; 8D        </span>         </td><td><span style=white-space:pre-wrap>Motivate                      </span></td><td><span style=white-space:pre-wrap>June 2010       </span>              </td><td>30 November 2019[13]                                                  </td><td>53                                                                    </td><td>676                                                                   </td><td><span style=white-space:pre-wrap>NA   </span>                         </td></tr>\n",
       "</tbody>\n",
       "</table>\n"
      ],
      "text/latex": [
       "\\begin{tabular}{r|lllllllllll}\n",
       " X1 & COUNTRY & CITY & NAME & SYSTEM & OPERATOR & LAUNCHED & DISCONTINUED & STATIONS & BICYCLES & DAILY\\_RIDERSHIP\\\\\n",
       "\\hline\n",
       "\t 1                              & Albania                        & Tirana{[}5{]}                  & Ecovolis                       & NA                             & NA                             & March 2011                     & NA                             & 8                              & 200                            & NA                            \\\\\n",
       "\t 2                              & Argentina                      & Mendoza{[}6{]}                 & Metrobici                      & NA                             & NA                             & 2014                           & NA                             & 2                              & 40                             & NA                            \\\\\n",
       "\t 3                              & Argentina                      & San Lorenzo, Santa Fe          & Biciudad                       & Biciudad                       & NA                             & 27 November 2016               & NA                             & 8                              & 80                             & NA                            \\\\\n",
       "\t 4                                  & Argentina                          & Buenos Aires{[}7{]}{[}8{]}         & Ecobici                            & Serttel Brasil{[}9{]}              & Bike In Baires Consortium.{[}10{]} & 2010                               & NA                                 & 400                                & 4000                               & 21917                             \\\\\n",
       "\t 5                              & Argentina                      & Rosario                        & Mi Bici Tu Bici{[}11{]}        & NA                             & NA                             & 2 December 2015                & NA                             & 47                             & 480                            & NA                            \\\\\n",
       "\t 6                              & Australia                      & Melbourne{[}12{]}              & Melbourne Bike Share           & PBSC \\& 8D                    & Motivate                       & June 2010                      & 30 November 2019{[}13{]}       & 53                             & 676                            & NA                            \\\\\n",
       "\\end{tabular}\n"
      ],
      "text/markdown": [
       "\n",
       "| X1 | COUNTRY | CITY | NAME | SYSTEM | OPERATOR | LAUNCHED | DISCONTINUED | STATIONS | BICYCLES | DAILY_RIDERSHIP |\n",
       "|---|---|---|---|---|---|---|---|---|---|---|\n",
       "| 1                              | Albania                        | Tirana[5]                      | Ecovolis                       | NA                             | NA                             | March 2011                     | NA                             | 8                              | 200                            | NA                             |\n",
       "| 2                              | Argentina                      | Mendoza[6]                     | Metrobici                      | NA                             | NA                             | 2014                           | NA                             | 2                              | 40                             | NA                             |\n",
       "| 3                              | Argentina                      | San Lorenzo, Santa Fe          | Biciudad                       | Biciudad                       | NA                             | 27 November 2016               | NA                             | 8                              | 80                             | NA                             |\n",
       "| 4                              | Argentina                      | Buenos Aires[7][8]             | Ecobici                        | Serttel Brasil[9]              | Bike In Baires Consortium.[10] | 2010                           | NA                             | 400                            | 4000                           | 21917                          |\n",
       "| 5                              | Argentina                      | Rosario                        | Mi Bici Tu Bici[11]            | NA                             | NA                             | 2 December 2015                | NA                             | 47                             | 480                            | NA                             |\n",
       "| 6                              | Australia                      | Melbourne[12]                  | Melbourne Bike Share           | PBSC & 8D                      | Motivate                       | June 2010                      | 30 November 2019[13]           | 53                             | 676                            | NA                             |\n",
       "\n"
      ],
      "text/plain": [
       "  X1 COUNTRY   CITY                  NAME                 SYSTEM           \n",
       "1 1  Albania   Tirana[5]             Ecovolis             NA               \n",
       "2 2  Argentina Mendoza[6]            Metrobici            NA               \n",
       "3 3  Argentina San Lorenzo, Santa Fe Biciudad             Biciudad         \n",
       "4 4  Argentina Buenos Aires[7][8]    Ecobici              Serttel Brasil[9]\n",
       "5 5  Argentina Rosario               Mi Bici Tu Bici[11]  NA               \n",
       "6 6  Australia Melbourne[12]         Melbourne Bike Share PBSC & 8D        \n",
       "  OPERATOR                       LAUNCHED         DISCONTINUED         STATIONS\n",
       "1 NA                             March 2011       NA                   8       \n",
       "2 NA                             2014             NA                   2       \n",
       "3 NA                             27 November 2016 NA                   8       \n",
       "4 Bike In Baires Consortium.[10] 2010             NA                   400     \n",
       "5 NA                             2 December 2015  NA                   47      \n",
       "6 Motivate                       June 2010        30 November 2019[13] 53      \n",
       "  BICYCLES DAILY_RIDERSHIP\n",
       "1 200      NA             \n",
       "2 40       NA             \n",
       "3 80       NA             \n",
       "4 4000     21917          \n",
       "5 480      NA             \n",
       "6 676      NA             "
      ]
     },
     "metadata": {},
     "output_type": "display_data"
    }
   ],
   "source": [
    "# Print its head\n",
    "head(bike_sharing_df)"
   ]
  },
  {
   "cell_type": "markdown",
   "metadata": {},
   "source": [
    "Even from the first few rows, you can see there is plenty of undesireable embedded textual content, such as the reference link included in `Melbourne[12]`.\n"
   ]
  },
  {
   "cell_type": "markdown",
   "metadata": {},
   "source": [
    "let's only focus on processing the following revelant columns :\n",
    "\n",
    "*   `COUNTRY`: Country name\n",
    "*   `CITY`: City name\n",
    "*   `SYSTEM`: Bike-sharing system name\n",
    "*   `BICYCLES`: Total number of bikes in the system\n"
   ]
  },
  {
   "cell_type": "code",
   "execution_count": 7,
   "metadata": {},
   "outputs": [],
   "source": [
    "# Select the four columns\n",
    "sub_bike_sharing_df <- bike_sharing_df %>% select(COUNTRY, CITY, SYSTEM, BICYCLES)"
   ]
  },
  {
   "cell_type": "markdown",
   "metadata": {},
   "source": [
    "Let's see the types of the selected columns\n"
   ]
  },
  {
   "cell_type": "code",
   "execution_count": 8,
   "metadata": {},
   "outputs": [
    {
     "data": {
      "text/html": [
       "<table>\n",
       "<thead><tr><th scope=col>variable</th><th scope=col>class</th></tr></thead>\n",
       "<tbody>\n",
       "\t<tr><td>COUNTRY  </td><td>character</td></tr>\n",
       "\t<tr><td>CITY     </td><td>character</td></tr>\n",
       "\t<tr><td>SYSTEM   </td><td>character</td></tr>\n",
       "\t<tr><td>BICYCLES </td><td>character</td></tr>\n",
       "</tbody>\n",
       "</table>\n"
      ],
      "text/latex": [
       "\\begin{tabular}{r|ll}\n",
       " variable & class\\\\\n",
       "\\hline\n",
       "\t COUNTRY   & character\\\\\n",
       "\t CITY      & character\\\\\n",
       "\t SYSTEM    & character\\\\\n",
       "\t BICYCLES  & character\\\\\n",
       "\\end{tabular}\n"
      ],
      "text/markdown": [
       "\n",
       "| variable | class |\n",
       "|---|---|\n",
       "| COUNTRY   | character |\n",
       "| CITY      | character |\n",
       "| SYSTEM    | character |\n",
       "| BICYCLES  | character |\n",
       "\n"
      ],
      "text/plain": [
       "  variable class    \n",
       "1 COUNTRY  character\n",
       "2 CITY     character\n",
       "3 SYSTEM   character\n",
       "4 BICYCLES character"
      ]
     },
     "metadata": {},
     "output_type": "display_data"
    }
   ],
   "source": [
    "sub_bike_sharing_df %>% \n",
    "    summarize_all(class) %>%\n",
    "    gather(variable, class)"
   ]
  },
  {
   "cell_type": "markdown",
   "metadata": {},
   "source": [
    "They are all interpreted as character columns, but we expect the `BICYCLES` column to be of numeric type. Let's see why it wasn't loaded as a numeric column - possibly some entries contain characters. Let's create a simple function called `find_character` to check that.\n"
   ]
  },
  {
   "cell_type": "code",
   "execution_count": 9,
   "metadata": {},
   "outputs": [],
   "source": [
    "# grepl searches a string for non-digital characters, and returns TRUE or FALSE\n",
    "# if it finds any non-digital characters, then the bicyle column is not purely numeric\n",
    "find_character <- function(strings) grepl(\"[^0-9]\", strings)"
   ]
  },
  {
   "cell_type": "markdown",
   "metadata": {},
   "source": [
    "Let's try to find any elements in the `Bicycles` column containing non-numeric characters.\n"
   ]
  },
  {
   "cell_type": "code",
   "execution_count": 10,
   "metadata": {},
   "outputs": [
    {
     "data": {
      "text/html": [
       "<table>\n",
       "<thead><tr><th scope=col>BICYCLES</th></tr></thead>\n",
       "<tbody>\n",
       "\t<tr><td>1790 (2019)[21]           </td></tr>\n",
       "\t<tr><td>4200 (2021)               </td></tr>\n",
       "\t<tr><td>4115[26]                  </td></tr>\n",
       "\t<tr><td>310[63]                   </td></tr>\n",
       "\t<tr><td>500[76]                   </td></tr>\n",
       "\t<tr><td>[79]                      </td></tr>\n",
       "\t<tr><td>180[80]                   </td></tr>\n",
       "\t<tr><td>600[81]                   </td></tr>\n",
       "\t<tr><td>[82]                      </td></tr>\n",
       "\t<tr><td>initially 800 (later 2500)</td></tr>\n",
       "</tbody>\n",
       "</table>\n"
      ],
      "text/latex": [
       "\\begin{tabular}{r|l}\n",
       " BICYCLES\\\\\n",
       "\\hline\n",
       "\t 1790 (2019){[}21{]}           \\\\\n",
       "\t 4200 (2021)               \\\\\n",
       "\t 4115{[}26{]}                  \\\\\n",
       "\t 310{[}63{]}                   \\\\\n",
       "\t 500{[}76{]}                   \\\\\n",
       "\t {[}79{]}                      \\\\\n",
       "\t 180{[}80{]}                   \\\\\n",
       "\t 600{[}81{]}                   \\\\\n",
       "\t {[}82{]}                      \\\\\n",
       "\t initially 800 (later 2500)\\\\\n",
       "\\end{tabular}\n"
      ],
      "text/markdown": [
       "\n",
       "| BICYCLES |\n",
       "|---|\n",
       "| 1790 (2019)[21]            |\n",
       "| 4200 (2021)                |\n",
       "| 4115[26]                   |\n",
       "| 310[63]                    |\n",
       "| 500[76]                    |\n",
       "| [79]                       |\n",
       "| 180[80]                    |\n",
       "| 600[81]                    |\n",
       "| [82]                       |\n",
       "| initially 800 (later 2500) |\n",
       "\n"
      ],
      "text/plain": [
       "   BICYCLES                  \n",
       "1  1790 (2019)[21]           \n",
       "2  4200 (2021)               \n",
       "3  4115[26]                  \n",
       "4  310[63]                   \n",
       "5  500[76]                   \n",
       "6  [79]                      \n",
       "7  180[80]                   \n",
       "8  600[81]                   \n",
       "9  [82]                      \n",
       "10 initially 800 (later 2500)"
      ]
     },
     "metadata": {},
     "output_type": "display_data"
    }
   ],
   "source": [
    "sub_bike_sharing_df %>% \n",
    "    select(BICYCLES) %>% \n",
    "    filter(find_character(BICYCLES)) %>%\n",
    "    slice(0:10)"
   ]
  },
  {
   "cell_type": "markdown",
   "metadata": {},
   "source": [
    "As you can see, many rows have non-numeric characters, such as `32 (including 6 rollers) [162]` and `1000[253]`. This is actually very common for a table scraped from Wiki when no input validation is enforced.\n",
    "\n",
    "Later, you will use regular expressions to clean them up.\n"
   ]
  },
  {
   "cell_type": "markdown",
   "metadata": {},
   "source": [
    "Next, let's take a look at the other columns, namely `COUNTRY`, `CITY`, and `SYSTEM`, to see if they contain any undesired reference links, such as in `Melbourne[12]`.\n"
   ]
  },
  {
   "cell_type": "code",
   "execution_count": 11,
   "metadata": {},
   "outputs": [],
   "source": [
    "# Define a 'reference link' character class, \n",
    "# `[A-z0-9]` means at least one character \n",
    "# `\\\\[` and `\\\\]` means the character is wrapped by [], such as for [12] or [abc]\n",
    "ref_pattern <- \"\\\\[[A-z0-9]+\\\\]\"\n",
    "find_reference_pattern <- function(strings) grepl(ref_pattern, strings)"
   ]
  },
  {
   "cell_type": "code",
   "execution_count": 12,
   "metadata": {},
   "outputs": [
    {
     "data": {
      "text/html": [
       "<table>\n",
       "<thead><tr><th scope=col>COUNTRY</th></tr></thead>\n",
       "<tbody>\n",
       "</tbody>\n",
       "</table>\n"
      ],
      "text/latex": [
       "\\begin{tabular}{r|l}\n",
       " COUNTRY\\\\\n",
       "\\hline\n",
       "\\end{tabular}\n"
      ],
      "text/markdown": [
       "\n",
       "| COUNTRY |\n",
       "|---|\n",
       "\n"
      ],
      "text/plain": [
       "     COUNTRY"
      ]
     },
     "metadata": {},
     "output_type": "display_data"
    }
   ],
   "source": [
    "# Check whether the COUNTRY column has any reference links\n",
    "sub_bike_sharing_df %>% \n",
    "    select(COUNTRY) %>% \n",
    "    filter(find_reference_pattern(COUNTRY)) %>%\n",
    "    slice(0:10)"
   ]
  },
  {
   "cell_type": "markdown",
   "metadata": {},
   "source": [
    "Ok, looks like the `COUNTRY` column is clean. Let's check the `CITY` column.\n"
   ]
  },
  {
   "cell_type": "code",
   "execution_count": 13,
   "metadata": {},
   "outputs": [
    {
     "data": {
      "text/html": [
       "<table>\n",
       "<thead><tr><th scope=col>CITY</th></tr></thead>\n",
       "<tbody>\n",
       "\t<tr><td>Tirana[5]              </td></tr>\n",
       "\t<tr><td>Mendoza[6]             </td></tr>\n",
       "\t<tr><td>Buenos Aires[7][8]     </td></tr>\n",
       "\t<tr><td>Melbourne[12]          </td></tr>\n",
       "\t<tr><td>Brisbane[14][15]       </td></tr>\n",
       "\t<tr><td>Lower Austria[18]      </td></tr>\n",
       "\t<tr><td>Different locations[19]</td></tr>\n",
       "\t<tr><td>Namur[22]              </td></tr>\n",
       "\t<tr><td>Brussels[25]           </td></tr>\n",
       "\t<tr><td>Salvador[27]           </td></tr>\n",
       "</tbody>\n",
       "</table>\n"
      ],
      "text/latex": [
       "\\begin{tabular}{r|l}\n",
       " CITY\\\\\n",
       "\\hline\n",
       "\t Tirana{[}5{]}              \\\\\n",
       "\t Mendoza{[}6{]}             \\\\\n",
       "\t Buenos Aires{[}7{]}{[}8{]}     \\\\\n",
       "\t Melbourne{[}12{]}          \\\\\n",
       "\t Brisbane{[}14{]}{[}15{]}       \\\\\n",
       "\t Lower Austria{[}18{]}      \\\\\n",
       "\t Different locations{[}19{]}\\\\\n",
       "\t Namur{[}22{]}              \\\\\n",
       "\t Brussels{[}25{]}           \\\\\n",
       "\t Salvador{[}27{]}           \\\\\n",
       "\\end{tabular}\n"
      ],
      "text/markdown": [
       "\n",
       "| CITY |\n",
       "|---|\n",
       "| Tirana[5]               |\n",
       "| Mendoza[6]              |\n",
       "| Buenos Aires[7][8]      |\n",
       "| Melbourne[12]           |\n",
       "| Brisbane[14][15]        |\n",
       "| Lower Austria[18]       |\n",
       "| Different locations[19] |\n",
       "| Namur[22]               |\n",
       "| Brussels[25]            |\n",
       "| Salvador[27]            |\n",
       "\n"
      ],
      "text/plain": [
       "   CITY                   \n",
       "1  Tirana[5]              \n",
       "2  Mendoza[6]             \n",
       "3  Buenos Aires[7][8]     \n",
       "4  Melbourne[12]          \n",
       "5  Brisbane[14][15]       \n",
       "6  Lower Austria[18]      \n",
       "7  Different locations[19]\n",
       "8  Namur[22]              \n",
       "9  Brussels[25]           \n",
       "10 Salvador[27]           "
      ]
     },
     "metadata": {},
     "output_type": "display_data"
    }
   ],
   "source": [
    "# Check whether the CITY column has any reference links\n",
    "sub_bike_sharing_df %>% \n",
    "    select(CITY) %>% \n",
    "    filter(find_reference_pattern(CITY)) %>%\n",
    "    slice(0:10)"
   ]
  },
  {
   "cell_type": "markdown",
   "metadata": {},
   "source": [
    "Hmm, looks like the `CITY` column has some reference links to be removed. Next, let's check the `SYSTEM` column.\n"
   ]
  },
  {
   "cell_type": "code",
   "execution_count": 14,
   "metadata": {},
   "outputs": [
    {
     "data": {
      "text/html": [
       "<table>\n",
       "<thead><tr><th scope=col>SYSTEM</th></tr></thead>\n",
       "<tbody>\n",
       "\t<tr><td>Serttel Brasil[9]                </td></tr>\n",
       "\t<tr><td>EasyBike[62]                     </td></tr>\n",
       "\t<tr><td>4 Gen.[65]                       </td></tr>\n",
       "\t<tr><td>3 Gen. SmooveKey[118]            </td></tr>\n",
       "\t<tr><td>3 Gen. Smoove[146][147][148][144]</td></tr>\n",
       "\t<tr><td>3 Gen. Smoove[184]               </td></tr>\n",
       "\t<tr><td>3 Gen. Smoove[186]               </td></tr>\n",
       "\t<tr><td>3 Gen. Smoove[188]               </td></tr>\n",
       "</tbody>\n",
       "</table>\n"
      ],
      "text/latex": [
       "\\begin{tabular}{r|l}\n",
       " SYSTEM\\\\\n",
       "\\hline\n",
       "\t Serttel Brasil{[}9{]}                \\\\\n",
       "\t EasyBike{[}62{]}                     \\\\\n",
       "\t 4 Gen.{[}65{]}                       \\\\\n",
       "\t 3 Gen. SmooveKey{[}118{]}            \\\\\n",
       "\t 3 Gen. Smoove{[}146{]}{[}147{]}{[}148{]}{[}144{]}\\\\\n",
       "\t 3 Gen. Smoove{[}184{]}               \\\\\n",
       "\t 3 Gen. Smoove{[}186{]}               \\\\\n",
       "\t 3 Gen. Smoove{[}188{]}               \\\\\n",
       "\\end{tabular}\n"
      ],
      "text/markdown": [
       "\n",
       "| SYSTEM |\n",
       "|---|\n",
       "| Serttel Brasil[9]                 |\n",
       "| EasyBike[62]                      |\n",
       "| 4 Gen.[65]                        |\n",
       "| 3 Gen. SmooveKey[118]             |\n",
       "| 3 Gen. Smoove[146][147][148][144] |\n",
       "| 3 Gen. Smoove[184]                |\n",
       "| 3 Gen. Smoove[186]                |\n",
       "| 3 Gen. Smoove[188]                |\n",
       "\n"
      ],
      "text/plain": [
       "  SYSTEM                           \n",
       "1 Serttel Brasil[9]                \n",
       "2 EasyBike[62]                     \n",
       "3 4 Gen.[65]                       \n",
       "4 3 Gen. SmooveKey[118]            \n",
       "5 3 Gen. Smoove[146][147][148][144]\n",
       "6 3 Gen. Smoove[184]               \n",
       "7 3 Gen. Smoove[186]               \n",
       "8 3 Gen. Smoove[188]               "
      ]
     },
     "metadata": {},
     "output_type": "display_data"
    }
   ],
   "source": [
    "# Check whether the System column has any reference links\n",
    "sub_bike_sharing_df %>% \n",
    "    select(SYSTEM) %>% \n",
    "    filter(find_reference_pattern(SYSTEM)) %>%\n",
    "    slice(0:10)"
   ]
  },
  {
   "cell_type": "markdown",
   "metadata": {},
   "source": [
    "So the `SYSTEM` column also has some reference links.\n"
   ]
  },
  {
   "cell_type": "markdown",
   "metadata": {},
   "source": [
    "After some preliminary investigations, we identified that the `CITY` and `SYSTEM` columns have some undesired reference links, and the `BICYCLES` column has both reference links and some\n",
    "textual annotations.\n",
    "\n",
    "Next, you need to use regular expressions to clean up the unexpected reference links and text annotations in numeric values.\n"
   ]
  },
  {
   "cell_type": "markdown",
   "metadata": {},
   "source": [
    "## Remove undesired reference links using regular expressions\n"
   ]
  },
  {
   "cell_type": "markdown",
   "metadata": {},
   "source": [
    "Write a custom function using `stringr::str_replace_all` to replace all reference links with an empty character for columns `CITY` and `SYSTEM`\n"
   ]
  },
  {
   "cell_type": "code",
   "execution_count": 15,
   "metadata": {},
   "outputs": [],
   "source": [
    "# remove reference link\n",
    "remove_ref <- function(strings) {\n",
    "    ref_pattern <- \"\\\\[[A-z0-9]+\\\\]\"\n",
    "    # Replace all matched substrings with a white space using str_replace_all()\n",
    "    result=str_replace_all(strings, ref_pattern,\"\")\n",
    "    # Trim the reslt if you want\n",
    "    return(result)\n",
    "}"
   ]
  },
  {
   "cell_type": "markdown",
   "metadata": {},
   "source": [
    " Use the `dplyr::mutate()` function to apply the `remove_ref` function to the `CITY` and `SYSTEM` columns\n"
   ]
  },
  {
   "cell_type": "code",
   "execution_count": 16,
   "metadata": {},
   "outputs": [],
   "source": [
    "result=sub_bike_sharing_df %>% \n",
    "mutate(CITY=remove_ref(CITY), SYSTEM=remove_ref(SYSTEM) )"
   ]
  },
  {
   "cell_type": "markdown",
   "metadata": {},
   "source": [
    " Use the following code to check whether all reference links are removed:\n"
   ]
  },
  {
   "cell_type": "code",
   "execution_count": 17,
   "metadata": {},
   "outputs": [
    {
     "data": {
      "text/html": [
       "<table>\n",
       "<thead><tr><th scope=col>CITY</th><th scope=col>SYSTEM</th><th scope=col>BICYCLES</th></tr></thead>\n",
       "<tbody>\n",
       "\t<tr><td>Different locations                                                                    </td><td>Blue-bike                                                                              </td><td>1790 (2019)[21]                                                                        </td></tr>\n",
       "\t<tr><td>Brussels                                                                               </td><td>3 Gen. Cyclocity                                                                       </td><td>4115[26]                                                                               </td></tr>\n",
       "\t<tr><td>Limassol (&amp; Agios Dometios, Aglandjia, Dali, Engomi, Latsia, Pallouriotissa, Strovolos)</td><td><span style=white-space:pre-wrap>3 Gen. Smoove                  </span>                    </td><td><span style=white-space:pre-wrap>310[63]                        </span>                    </td></tr>\n",
       "\t<tr><td>Prague                                                                                 </td><td>NA                                                                                     </td><td>500[76]                                                                                </td></tr>\n",
       "\t<tr><td>Prague 7                                                                               </td><td>4 Gen. Ofo                                                                             </td><td>[79]                                                                                   </td></tr>\n",
       "\t<tr><td>Prostejov                                                                              </td><td>3 Gen. nextbike                                                                        </td><td>180[80]                                                                                </td></tr>\n",
       "\t<tr><td>Ostrava                                                                                </td><td>3 Gen. nextbike                                                                        </td><td>600[81]                                                                                </td></tr>\n",
       "\t<tr><td><span style=white-space:pre-wrap>Fars&lt;f8&gt;                                                                               </span></td><td><span style=white-space:pre-wrap>2 Gen                          </span>                                                              </td><td><span style=white-space:pre-wrap>[82]                           </span>                                                              </td></tr>\n",
       "\t<tr><td>Batumi                                                                                 </td><td>3 Gen. SmooveKey                                                                       </td><td>370[119]                                                                               </td></tr>\n",
       "\t<tr><td><span style=white-space:pre-wrap>Darmstadt                                                                              </span></td><td><span style=white-space:pre-wrap>3 &amp; 4 Gen. Call a Bike flex    </span>                                                    </td><td><span style=white-space:pre-wrap>350 [130]                      </span>                                                        </td></tr>\n",
       "\t<tr><td>Corfu                                                                                  </td><td>3 Gen. Smoove                                                                          </td><td>100[62]                                                                                </td></tr>\n",
       "\t<tr><td>Budapest                                                                               </td><td>3 Gen.                                                                                 </td><td>1526[164]                                                                              </td></tr>\n",
       "\t<tr><td>Gyor                                                                                   </td><td>NA                                                                                     </td><td>180[166]                                                                               </td></tr>\n",
       "\t<tr><td><span style=white-space:pre-wrap>Kaposv&lt;e1&gt;r                                                                            </span></td><td><span style=white-space:pre-wrap>NA                             </span>                                                              </td><td><span style=white-space:pre-wrap>32 (including 6 rollers)  [167]</span>                                                              </td></tr>\n",
       "\t<tr><td>Milan                                                                                  </td><td>3 Gen. Clear CC                                                                        </td><td>5430 (1000 E)[179]                                                                     </td></tr>\n",
       "\t<tr><td>Towns and cities in the Netherlands: all over the country, mainly at railway stations  </td><td>OV-Fiets/Nederlandse Spoorwegen                                                        </td><td>21700 [192]                                                                            </td></tr>\n",
       "\t<tr><td>Kazan                                                                                  </td><td>3 Gen. Cyclocity                                                                       </td><td>120[212]                                                                               </td></tr>\n",
       "\t<tr><td>Bratislava                                                                             </td><td>NA                                                                                     </td><td>400[214]                                                                               </td></tr>\n",
       "\t<tr><td>Bratislava                                                                             </td><td>NA                                                                                     </td><td>80[216]                                                                                </td></tr>\n",
       "\t<tr><td><span style=white-space:pre-wrap>Ko&lt;U+009A&gt;ice                                                                          </span></td><td><span style=white-space:pre-wrap>NA                             </span>                                                              </td><td><span style=white-space:pre-wrap>500[220]                       </span>                                                              </td></tr>\n",
       "\t<tr><td>Moldava nad Bodvou                                                                     </td><td>NA                                                                                     </td><td>25[223]                                                                                </td></tr>\n",
       "\t<tr><td><span style=white-space:pre-wrap>&lt;U+008E&gt;ilina                                                                          </span></td><td><span style=white-space:pre-wrap>nextbike                       </span>                                                              </td><td><span style=white-space:pre-wrap>123[235]                       </span>                                                              </td></tr>\n",
       "\t<tr><td>Changwon                                                                               </td><td>NA                                                                                     </td><td>2348[244]                                                                              </td></tr>\n",
       "\t<tr><td>Glasgow (Scotland)                                                                     </td><td>3 Gen. nextbike                                                                        </td><td>400[265]                                                                               </td></tr>\n",
       "\t<tr><td>Greater Manchester (England)                                                           </td><td>NA                                                                                     </td><td>1500[267]                                                                              </td></tr>\n",
       "\t<tr><td>Edinburgh (Scotland)                                                                   </td><td>Urban Sharing                                                                          </td><td>500[268]                                                                               </td></tr>\n",
       "\t<tr><td>Liverpool (England)                                                                    </td><td>NA                                                                                     </td><td>1000[269]                                                                              </td></tr>\n",
       "</tbody>\n",
       "</table>\n"
      ],
      "text/latex": [
       "\\begin{tabular}{r|lll}\n",
       " CITY & SYSTEM & BICYCLES\\\\\n",
       "\\hline\n",
       "\t Different locations                                                                     & Blue-bike                                                                               & 1790 (2019){[}21{]}                                                                    \\\\\n",
       "\t Brussels                                                                                & 3 Gen. Cyclocity                                                                        & 4115{[}26{]}                                                                           \\\\\n",
       "\t Limassol (\\& Agios Dometios, Aglandjia, Dali, Engomi, Latsia, Pallouriotissa, Strovolos) & 3 Gen. Smoove                                                                             & 310{[}63{]}                                                                              \\\\\n",
       "\t Prague                                                                                  & NA                                                                                      & 500{[}76{]}                                                                            \\\\\n",
       "\t Prague 7                                                                                & 4 Gen. Ofo                                                                              & {[}79{]}                                                                               \\\\\n",
       "\t Prostejov                                                                               & 3 Gen. nextbike                                                                         & 180{[}80{]}                                                                            \\\\\n",
       "\t Ostrava                                                                                 & 3 Gen. nextbike                                                                         & 600{[}81{]}                                                                            \\\\\n",
       "\t Fars<f8>                                                                                & 2 Gen                                                                                   & {[}82{]}                                                                               \\\\\n",
       "\t Batumi                                                                                  & 3 Gen. SmooveKey                                                                        & 370{[}119{]}                                                                           \\\\\n",
       "\t Darmstadt                                                                               & 3 \\& 4 Gen. Call a Bike flex                                                           & 350 {[}130{]}                                                                          \\\\\n",
       "\t Corfu                                                                                   & 3 Gen. Smoove                                                                           & 100{[}62{]}                                                                            \\\\\n",
       "\t Budapest                                                                                & 3 Gen.                                                                                  & 1526{[}164{]}                                                                          \\\\\n",
       "\t Gyor                                                                                    & NA                                                                                      & 180{[}166{]}                                                                           \\\\\n",
       "\t Kaposv<e1>r                                                                             & NA                                                                                      & 32 (including 6 rollers)  {[}167{]}                                                    \\\\\n",
       "\t Milan                                                                                   & 3 Gen. Clear CC                                                                         & 5430 (1000 E){[}179{]}                                                                 \\\\\n",
       "\t Towns and cities in the Netherlands: all over the country, mainly at railway stations   & OV-Fiets/Nederlandse Spoorwegen                                                         & 21700 {[}192{]}                                                                        \\\\\n",
       "\t Kazan                                                                                   & 3 Gen. Cyclocity                                                                        & 120{[}212{]}                                                                           \\\\\n",
       "\t Bratislava                                                                              & NA                                                                                      & 400{[}214{]}                                                                           \\\\\n",
       "\t Bratislava                                                                              & NA                                                                                      & 80{[}216{]}                                                                            \\\\\n",
       "\t Ko<U+009A>ice                                                                           & NA                                                                                      & 500{[}220{]}                                                                           \\\\\n",
       "\t Moldava nad Bodvou                                                                      & NA                                                                                      & 25{[}223{]}                                                                            \\\\\n",
       "\t <U+008E>ilina                                                                           & nextbike                                                                                & 123{[}235{]}                                                                           \\\\\n",
       "\t Changwon                                                                                & NA                                                                                      & 2348{[}244{]}                                                                          \\\\\n",
       "\t Glasgow (Scotland)                                                                      & 3 Gen. nextbike                                                                         & 400{[}265{]}                                                                           \\\\\n",
       "\t Greater Manchester (England)                                                            & NA                                                                                      & 1500{[}267{]}                                                                          \\\\\n",
       "\t Edinburgh (Scotland)                                                                    & Urban Sharing                                                                           & 500{[}268{]}                                                                           \\\\\n",
       "\t Liverpool (England)                                                                     & NA                                                                                      & 1000{[}269{]}                                                                          \\\\\n",
       "\\end{tabular}\n"
      ],
      "text/markdown": [
       "\n",
       "| CITY | SYSTEM | BICYCLES |\n",
       "|---|---|---|\n",
       "| Different locations                                                                     | Blue-bike                                                                               | 1790 (2019)[21]                                                                         |\n",
       "| Brussels                                                                                | 3 Gen. Cyclocity                                                                        | 4115[26]                                                                                |\n",
       "| Limassol (& Agios Dometios, Aglandjia, Dali, Engomi, Latsia, Pallouriotissa, Strovolos) | 3 Gen. Smoove                                                                           | 310[63]                                                                                 |\n",
       "| Prague                                                                                  | NA                                                                                      | 500[76]                                                                                 |\n",
       "| Prague 7                                                                                | 4 Gen. Ofo                                                                              | [79]                                                                                    |\n",
       "| Prostejov                                                                               | 3 Gen. nextbike                                                                         | 180[80]                                                                                 |\n",
       "| Ostrava                                                                                 | 3 Gen. nextbike                                                                         | 600[81]                                                                                 |\n",
       "| Fars<f8>                                                                                | 2 Gen                                                                                   | [82]                                                                                    |\n",
       "| Batumi                                                                                  | 3 Gen. SmooveKey                                                                        | 370[119]                                                                                |\n",
       "| Darmstadt                                                                               | 3 & 4 Gen. Call a Bike flex                                                             | 350 [130]                                                                               |\n",
       "| Corfu                                                                                   | 3 Gen. Smoove                                                                           | 100[62]                                                                                 |\n",
       "| Budapest                                                                                | 3 Gen.                                                                                  | 1526[164]                                                                               |\n",
       "| Gyor                                                                                    | NA                                                                                      | 180[166]                                                                                |\n",
       "| Kaposv<e1>r                                                                             | NA                                                                                      | 32 (including 6 rollers)  [167]                                                         |\n",
       "| Milan                                                                                   | 3 Gen. Clear CC                                                                         | 5430 (1000 E)[179]                                                                      |\n",
       "| Towns and cities in the Netherlands: all over the country, mainly at railway stations   | OV-Fiets/Nederlandse Spoorwegen                                                         | 21700 [192]                                                                             |\n",
       "| Kazan                                                                                   | 3 Gen. Cyclocity                                                                        | 120[212]                                                                                |\n",
       "| Bratislava                                                                              | NA                                                                                      | 400[214]                                                                                |\n",
       "| Bratislava                                                                              | NA                                                                                      | 80[216]                                                                                 |\n",
       "| Ko<U+009A>ice                                                                           | NA                                                                                      | 500[220]                                                                                |\n",
       "| Moldava nad Bodvou                                                                      | NA                                                                                      | 25[223]                                                                                 |\n",
       "| <U+008E>ilina                                                                           | nextbike                                                                                | 123[235]                                                                                |\n",
       "| Changwon                                                                                | NA                                                                                      | 2348[244]                                                                               |\n",
       "| Glasgow (Scotland)                                                                      | 3 Gen. nextbike                                                                         | 400[265]                                                                                |\n",
       "| Greater Manchester (England)                                                            | NA                                                                                      | 1500[267]                                                                               |\n",
       "| Edinburgh (Scotland)                                                                    | Urban Sharing                                                                           | 500[268]                                                                                |\n",
       "| Liverpool (England)                                                                     | NA                                                                                      | 1000[269]                                                                               |\n",
       "\n"
      ],
      "text/plain": [
       "   CITY                                                                                   \n",
       "1  Different locations                                                                    \n",
       "2  Brussels                                                                               \n",
       "3  Limassol (& Agios Dometios, Aglandjia, Dali, Engomi, Latsia, Pallouriotissa, Strovolos)\n",
       "4  Prague                                                                                 \n",
       "5  Prague 7                                                                               \n",
       "6  Prostejov                                                                              \n",
       "7  Ostrava                                                                                \n",
       "8  Fars<f8>                                                                               \n",
       "9  Batumi                                                                                 \n",
       "10 Darmstadt                                                                              \n",
       "11 Corfu                                                                                  \n",
       "12 Budapest                                                                               \n",
       "13 Gyor                                                                                   \n",
       "14 Kaposv<e1>r                                                                            \n",
       "15 Milan                                                                                  \n",
       "16 Towns and cities in the Netherlands: all over the country, mainly at railway stations  \n",
       "17 Kazan                                                                                  \n",
       "18 Bratislava                                                                             \n",
       "19 Bratislava                                                                             \n",
       "20 Ko<U+009A>ice                                                                          \n",
       "21 Moldava nad Bodvou                                                                     \n",
       "22 <U+008E>ilina                                                                          \n",
       "23 Changwon                                                                               \n",
       "24 Glasgow (Scotland)                                                                     \n",
       "25 Greater Manchester (England)                                                           \n",
       "26 Edinburgh (Scotland)                                                                   \n",
       "27 Liverpool (England)                                                                    \n",
       "   SYSTEM                          BICYCLES                       \n",
       "1  Blue-bike                       1790 (2019)[21]                \n",
       "2  3 Gen. Cyclocity                4115[26]                       \n",
       "3  3 Gen. Smoove                   310[63]                        \n",
       "4  NA                              500[76]                        \n",
       "5  4 Gen. Ofo                      [79]                           \n",
       "6  3 Gen. nextbike                 180[80]                        \n",
       "7  3 Gen. nextbike                 600[81]                        \n",
       "8  2 Gen                           [82]                           \n",
       "9  3 Gen. SmooveKey                370[119]                       \n",
       "10 3 & 4 Gen. Call a Bike flex     350 [130]                      \n",
       "11 3 Gen. Smoove                   100[62]                        \n",
       "12 3 Gen.                          1526[164]                      \n",
       "13 NA                              180[166]                       \n",
       "14 NA                              32 (including 6 rollers)  [167]\n",
       "15 3 Gen. Clear CC                 5430 (1000 E)[179]             \n",
       "16 OV-Fiets/Nederlandse Spoorwegen 21700 [192]                    \n",
       "17 3 Gen. Cyclocity                120[212]                       \n",
       "18 NA                              400[214]                       \n",
       "19 NA                              80[216]                        \n",
       "20 NA                              500[220]                       \n",
       "21 NA                              25[223]                        \n",
       "22 nextbike                        123[235]                       \n",
       "23 NA                              2348[244]                      \n",
       "24 3 Gen. nextbike                 400[265]                       \n",
       "25 NA                              1500[267]                      \n",
       "26 Urban Sharing                   500[268]                       \n",
       "27 NA                              1000[269]                      "
      ]
     },
     "metadata": {},
     "output_type": "display_data"
    }
   ],
   "source": [
    "result %>% \n",
    "    select(CITY, SYSTEM, BICYCLES) %>% \n",
    "    filter(find_reference_pattern(CITY) | find_reference_pattern(SYSTEM) | find_reference_pattern(BICYCLES))"
   ]
  },
  {
   "cell_type": "markdown",
   "metadata": {},
   "source": [
    "# Extract the numeric value using regular expressions\n"
   ]
  },
  {
   "cell_type": "markdown",
   "metadata": {},
   "source": [
    " Write a custom function using `stringr::str_extract` to extract the first digital substring match and convert it into numeric type For example, extract the value '32' from `32 (including 6 rollers) [162]`.\n"
   ]
  },
  {
   "cell_type": "code",
   "execution_count": 18,
   "metadata": {},
   "outputs": [],
   "source": [
    "# Extract the first number\n",
    "extract_num <- function(columns){\n",
    "    # Define a digital pattern\n",
    "    digitals_pattern <- \"[0-9]+\"\n",
    "    # Find the first match using str_extract\n",
    "    result=str_extract(columns, digitals_pattern)\n",
    "    # Convert the result to numeric using the as.numeric() function\n",
    "    as.numeric(result)\n",
    "}"
   ]
  },
  {
   "cell_type": "markdown",
   "metadata": {},
   "source": [
    " Use the `dplyr::mutate()` function to apply `extract_num` on the `BICYCLES` column\n"
   ]
  },
  {
   "cell_type": "code",
   "execution_count": 19,
   "metadata": {},
   "outputs": [],
   "source": [
    "# Use the mutate() function on the BICYCLES column\n",
    "result =sub_bike_sharing_df %>%\n",
    "mutate(BICYCLES=extract_num(BICYCLES))"
   ]
  },
  {
   "cell_type": "markdown",
   "metadata": {},
   "source": [
    " Use the summary function to check the descriptive statistics of the numeric `BICYCLES` column\n"
   ]
  },
  {
   "cell_type": "code",
   "execution_count": 20,
   "metadata": {},
   "outputs": [
    {
     "data": {
      "text/plain": [
       "   Min. 1st Qu.  Median    Mean 3rd Qu.    Max.    NA's \n",
       "      5      94     300    1921    1250   78000      78 "
      ]
     },
     "metadata": {},
     "output_type": "display_data"
    }
   ],
   "source": [
    "summary(result$BICYCLES)"
   ]
  },
  {
   "cell_type": "markdown",
   "metadata": {},
   "source": [
    " Write the cleaned bike-sharing systems dataset into a csv file called `bike_sharing_systems.csv`\n"
   ]
  },
  {
   "cell_type": "code",
   "execution_count": 21,
   "metadata": {},
   "outputs": [],
   "source": [
    "# Write dataset to `bike_sharing_systems.csv`\n",
    "write.csv(sub_bike_sharing_df, 'bike_sharing_systems.csv')"
   ]
  }
 ],
 "metadata": {
  "kernelspec": {
   "display_name": "R",
   "language": "R",
   "name": "ir"
  },
  "language_info": {
   "codemirror_mode": "r",
   "file_extension": ".r",
   "mimetype": "text/x-r-source",
   "name": "R",
   "pygments_lexer": "r",
   "version": "3.6.1"
  }
 },
 "nbformat": 4,
 "nbformat_minor": 4
}
