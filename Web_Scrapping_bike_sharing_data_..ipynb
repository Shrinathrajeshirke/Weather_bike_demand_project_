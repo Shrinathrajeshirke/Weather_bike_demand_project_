{
 "cells": [
  {
   "cell_type": "markdown",
   "metadata": {},
   "source": [
    "<h1>Web scrape a Global Bike-Sharing Systems Wiki Page</h1>\n"
   ]
  },
  {
   "cell_type": "markdown",
   "metadata": {},
   "source": [
    "First import necessary libraries for the webscraping task.\n"
   ]
  },
  {
   "cell_type": "markdown",
   "metadata": {},
   "source": [
    "we use the `rvest` library to obtain the bike sharing systems table from the above web page, convert the table into a data frame, and write the data frame to a csv file for future data wrangling and analysis tasks.\n"
   ]
  },
  {
   "cell_type": "code",
   "execution_count": 1,
   "metadata": {
    "scrolled": true
   },
   "outputs": [
    {
     "name": "stderr",
     "output_type": "stream",
     "text": [
      "Warning message:\n",
      "\"package 'dplyr' was built under R version 3.6.3\"\n",
      "Attaching package: 'dplyr'\n",
      "\n",
      "The following objects are masked from 'package:stats':\n",
      "\n",
      "    filter, lag\n",
      "\n",
      "The following objects are masked from 'package:base':\n",
      "\n",
      "    intersect, setdiff, setequal, union\n",
      "\n"
     ]
    }
   ],
   "source": [
    "# Check if need to install rvest` library\n",
    "library(rvest)\n",
    "library(dplyr)"
   ]
  },
  {
   "cell_type": "code",
   "execution_count": 2,
   "metadata": {},
   "outputs": [],
   "source": [
    "#get url\n",
    "url <- \"https://en.wikipedia.org/wiki/List_of_bicycle-sharing_systems\""
   ]
  },
  {
   "cell_type": "code",
   "execution_count": 3,
   "metadata": {},
   "outputs": [
    {
     "data": {
      "text/html": [
       "<table>\n",
       "<thead><tr><th scope=col>Country</th><th scope=col>City</th><th scope=col>Name</th><th scope=col>System</th><th scope=col>Operator</th><th scope=col>Launched</th><th scope=col>Discontinued</th><th scope=col>Stations</th><th scope=col>Bicycles</th><th scope=col>Daily ridership</th></tr></thead>\n",
       "<tbody>\n",
       "\t<tr><td>Albania                       </td><td>Tirana[5]                     </td><td>Ecovolis                      </td><td>                              </td><td>                              </td><td>March 2011                    </td><td>                              </td><td>8                             </td><td>200                           </td><td>                              </td></tr>\n",
       "\t<tr><td>Argentina                     </td><td>Mendoza[6]                    </td><td>Metrobici                     </td><td>                              </td><td>                              </td><td>2014                          </td><td>                              </td><td>2                             </td><td>40                            </td><td>                              </td></tr>\n",
       "\t<tr><td>Argentina                     </td><td>San Lorenzo, Santa Fe         </td><td>Biciudad                      </td><td>Biciudad                      </td><td>                              </td><td>27 November 2016              </td><td>                              </td><td>8                             </td><td>80                            </td><td>                              </td></tr>\n",
       "\t<tr><td>Argentina                     </td><td>Buenos Aires[7][8]            </td><td>Ecobici                       </td><td>Serttel Brasil[9]             </td><td>Bike In Baires Consortium.[10]</td><td>2010                          </td><td>                              </td><td>400                           </td><td>4000                          </td><td>21917                         </td></tr>\n",
       "\t<tr><td>Argentina                     </td><td>Rosario                       </td><td>Mi Bici Tu Bici[11]           </td><td>                              </td><td>                              </td><td>2 December 2015               </td><td>                              </td><td>47                            </td><td>480                           </td><td>                              </td></tr>\n",
       "\t<tr><td>Australia                                                             </td><td><span style=white-space:pre-wrap>Melbourne[12]        </span>         </td><td>Melbourne Bike Share                                                  </td><td><span style=white-space:pre-wrap>PBSC &amp; 8D        </span>         </td><td><span style=white-space:pre-wrap>Motivate                      </span></td><td><span style=white-space:pre-wrap>June 2010       </span>              </td><td>30 November 2019[13]                                                  </td><td>53                                                                    </td><td>676                                                                   </td><td><span style=white-space:pre-wrap>     </span>                         </td></tr>\n",
       "</tbody>\n",
       "</table>\n"
      ],
      "text/latex": [
       "\\begin{tabular}{r|llllllllll}\n",
       " Country & City & Name & System & Operator & Launched & Discontinued & Stations & Bicycles & Daily ridership\\\\\n",
       "\\hline\n",
       "\t Albania                        & Tirana{[}5{]}                  & Ecovolis                       &                                &                                & March 2011                     &                                & 8                              & 200                            &                               \\\\\n",
       "\t Argentina                      & Mendoza{[}6{]}                 & Metrobici                      &                                &                                & 2014                           &                                & 2                              & 40                             &                               \\\\\n",
       "\t Argentina                      & San Lorenzo, Santa Fe          & Biciudad                       & Biciudad                       &                                & 27 November 2016               &                                & 8                              & 80                             &                               \\\\\n",
       "\t Argentina                          & Buenos Aires{[}7{]}{[}8{]}         & Ecobici                            & Serttel Brasil{[}9{]}              & Bike In Baires Consortium.{[}10{]} & 2010                               &                                    & 400                                & 4000                               & 21917                             \\\\\n",
       "\t Argentina                      & Rosario                        & Mi Bici Tu Bici{[}11{]}        &                                &                                & 2 December 2015                &                                & 47                             & 480                            &                               \\\\\n",
       "\t Australia                      & Melbourne{[}12{]}              & Melbourne Bike Share           & PBSC \\& 8D                    & Motivate                       & June 2010                      & 30 November 2019{[}13{]}       & 53                             & 676                            &                               \\\\\n",
       "\\end{tabular}\n"
      ],
      "text/markdown": [
       "\n",
       "| Country | City | Name | System | Operator | Launched | Discontinued | Stations | Bicycles | Daily ridership |\n",
       "|---|---|---|---|---|---|---|---|---|---|\n",
       "| Albania                        | Tirana[5]                      | Ecovolis                       |                                |                                | March 2011                     |                                | 8                              | 200                            |                                |\n",
       "| Argentina                      | Mendoza[6]                     | Metrobici                      |                                |                                | 2014                           |                                | 2                              | 40                             |                                |\n",
       "| Argentina                      | San Lorenzo, Santa Fe          | Biciudad                       | Biciudad                       |                                | 27 November 2016               |                                | 8                              | 80                             |                                |\n",
       "| Argentina                      | Buenos Aires[7][8]             | Ecobici                        | Serttel Brasil[9]              | Bike In Baires Consortium.[10] | 2010                           |                                | 400                            | 4000                           | 21917                          |\n",
       "| Argentina                      | Rosario                        | Mi Bici Tu Bici[11]            |                                |                                | 2 December 2015                |                                | 47                             | 480                            |                                |\n",
       "| Australia                      | Melbourne[12]                  | Melbourne Bike Share           | PBSC & 8D                      | Motivate                       | June 2010                      | 30 November 2019[13]           | 53                             | 676                            |                                |\n",
       "\n"
      ],
      "text/plain": [
       "  Country   City                  Name                 System           \n",
       "1 Albania   Tirana[5]             Ecovolis                              \n",
       "2 Argentina Mendoza[6]            Metrobici                             \n",
       "3 Argentina San Lorenzo, Santa Fe Biciudad             Biciudad         \n",
       "4 Argentina Buenos Aires[7][8]    Ecobici              Serttel Brasil[9]\n",
       "5 Argentina Rosario               Mi Bici Tu Bici[11]                   \n",
       "6 Australia Melbourne[12]         Melbourne Bike Share PBSC & 8D        \n",
       "  Operator                       Launched         Discontinued         Stations\n",
       "1                                March 2011                            8       \n",
       "2                                2014                                  2       \n",
       "3                                27 November 2016                      8       \n",
       "4 Bike In Baires Consortium.[10] 2010                                  400     \n",
       "5                                2 December 2015                       47      \n",
       "6 Motivate                       June 2010        30 November 2019[13] 53      \n",
       "  Bicycles Daily ridership\n",
       "1 200                     \n",
       "2 40                      \n",
       "3 80                      \n",
       "4 4000     21917          \n",
       "5 480                     \n",
       "6 676                     "
      ]
     },
     "metadata": {},
     "output_type": "display_data"
    }
   ],
   "source": [
    "#get table\n",
    "tables <- url %>%\n",
    "read_html() %>%\n",
    "html_nodes(xpath = '//*[@id=\"mw-content-text\"]/div[1]/table[3]') %>%\n",
    "html_table()\n",
    "\n",
    "#Extracting required table\n",
    "data <- tables[[1]]\n",
    "head(data)"
   ]
  },
  {
   "cell_type": "code",
   "execution_count": 4,
   "metadata": {},
   "outputs": [
    {
     "data": {
      "text/plain": [
       "   Country              City               Name              System         \n",
       " Length:515         Length:515         Length:515         Length:515        \n",
       " Class :character   Class :character   Class :character   Class :character  \n",
       " Mode  :character   Mode  :character   Mode  :character   Mode  :character  \n",
       "   Operator           Launched         Discontinued         Stations        \n",
       " Length:515         Length:515         Length:515         Length:515        \n",
       " Class :character   Class :character   Class :character   Class :character  \n",
       " Mode  :character   Mode  :character   Mode  :character   Mode  :character  \n",
       "   Bicycles         Daily ridership   \n",
       " Length:515         Length:515        \n",
       " Class :character   Class :character  \n",
       " Mode  :character   Mode  :character  "
      ]
     },
     "metadata": {},
     "output_type": "display_data"
    }
   ],
   "source": [
    "# summary of dataset\n",
    "summary(data)"
   ]
  },
  {
   "cell_type": "code",
   "execution_count": 5,
   "metadata": {},
   "outputs": [],
   "source": [
    "# save to csv\n",
    "write.csv(data, \"bike_sharing_systems.csv\")"
   ]
  },
  {
   "cell_type": "code",
   "execution_count": null,
   "metadata": {},
   "outputs": [],
   "source": []
  }
 ],
 "metadata": {
  "kernelspec": {
   "display_name": "R",
   "language": "R",
   "name": "ir"
  },
  "language_info": {
   "codemirror_mode": "r",
   "file_extension": ".r",
   "mimetype": "text/x-r-source",
   "name": "R",
   "pygments_lexer": "r",
   "version": "3.6.1"
  }
 },
 "nbformat": 4,
 "nbformat_minor": 4
}
